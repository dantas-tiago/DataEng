{
  "nbformat": 4,
  "nbformat_minor": 0,
  "metadata": {
    "colab": {
      "provenance": []
    },
    "kernelspec": {
      "name": "python3",
      "display_name": "Python 3"
    },
    "language_info": {
      "name": "python"
    }
  },
  "cells": [
    {
      "cell_type": "code",
      "source": [
        "#instalando o pyspark, será necessário para enviar do pandas para o spark\n",
        "! pip install pyspark"
      ],
      "metadata": {
        "colab": {
          "base_uri": "https://localhost:8080/"
        },
        "id": "ZE9ekr8xeFLW",
        "outputId": "3a48e81c-99ec-4501-9fde-04bc32245f7c"
      },
      "execution_count": 2,
      "outputs": [
        {
          "output_type": "stream",
          "name": "stdout",
          "text": [
            "Collecting pyspark\n",
            "  Downloading pyspark-3.5.0.tar.gz (316.9 MB)\n",
            "\u001b[2K     \u001b[90m━━━━━━━━━━━━━━━━━━━━━━━━━━━━━━━━━━━━━━━\u001b[0m \u001b[32m316.9/316.9 MB\u001b[0m \u001b[31m4.9 MB/s\u001b[0m eta \u001b[36m0:00:00\u001b[0m\n",
            "\u001b[?25h  Preparing metadata (setup.py) ... \u001b[?25l\u001b[?25hdone\n",
            "Requirement already satisfied: py4j==0.10.9.7 in /usr/local/lib/python3.10/dist-packages (from pyspark) (0.10.9.7)\n",
            "Building wheels for collected packages: pyspark\n",
            "  Building wheel for pyspark (setup.py) ... \u001b[?25l\u001b[?25hdone\n",
            "  Created wheel for pyspark: filename=pyspark-3.5.0-py2.py3-none-any.whl size=317425344 sha256=eed39cc4a9430be6b93731e7c3383ba2e7ef5b985bfdd0a3b336bcc73a5ef4da\n",
            "  Stored in directory: /root/.cache/pip/wheels/41/4e/10/c2cf2467f71c678cfc8a6b9ac9241e5e44a01940da8fbb17fc\n",
            "Successfully built pyspark\n",
            "Installing collected packages: pyspark\n",
            "Successfully installed pyspark-3.5.0\n"
          ]
        }
      ]
    },
    {
      "cell_type": "code",
      "source": [
        "# para verificar podemos listar os arquivos na pasta usando a biblioteca os\n",
        "import os\n",
        "import pandas as pd\n",
        "from pyspark.sql import SparkSession #cria uma seção/ambiente para utilizarmos spark\n",
        "from pyspark.sql.types import StructType, StructField, IntegerType, StringType, DoubleType, DateType, TimestampType\n",
        "\n",
        "#para salvar no google drive, deve-se importar a biblioteca\n",
        "from google.colab import drive\n",
        "import csv\n",
        "import pyspark.sql.functions as F #para substituir valores e tipo de dados\n",
        "import pyspark\n"
      ],
      "metadata": {
        "id": "PJ1sMoRjKxYH"
      },
      "execution_count": 64,
      "outputs": []
    },
    {
      "cell_type": "code",
      "source": [
        "# Sets a name for the application, which will be shown in the Spark web UI.\n",
        "# https://spark.apache.org/docs/3.1.1/api/python/reference/api/pyspark.sql.SparkSession.builder.appName.html\n",
        "spark = SparkSession.builder.appName(\"Aula 1\").getOrCreate()"
      ],
      "metadata": {
        "id": "eIc82uvgM9Sh"
      },
      "execution_count": 65,
      "outputs": []
    },
    {
      "cell_type": "code",
      "execution_count": 66,
      "metadata": {
        "id": "uAz-Z7ngKMBu",
        "colab": {
          "base_uri": "https://localhost:8080/"
        },
        "outputId": "c6c99365-dc61-4ce1-a1e0-222dc8b9aa49"
      },
      "outputs": [
        {
          "output_type": "stream",
          "name": "stdout",
          "text": [
            "Drive already mounted at /content/drive; to attempt to forcibly remount, call drive.mount(\"/content/drive\", force_remount=True).\n"
          ]
        }
      ],
      "source": [
        "from google.colab import drive\n",
        "drive.mount('/content/drive')"
      ]
    },
    {
      "cell_type": "code",
      "source": [
        "id_arquivo = '2023_Passagem.csv'"
      ],
      "metadata": {
        "id": "zdiHGp0PL1jq"
      },
      "execution_count": 98,
      "outputs": []
    },
    {
      "cell_type": "code",
      "source": [
        "#Variável de diretório\n",
        "diret = f'/content/drive/MyDrive/Bootcamp_eng_dados/Mod1/Viagens/{id_arquivo}'"
      ],
      "metadata": {
        "id": "v_ez3As6KdEk"
      },
      "execution_count": 101,
      "outputs": []
    },
    {
      "cell_type": "code",
      "source": [
        "os.listdir(\"/content/drive/MyDrive/Bootcamp_eng_dados/Mod1/Viagens\")"
      ],
      "metadata": {
        "colab": {
          "base_uri": "https://localhost:8080/"
        },
        "id": "zTNR5IB0Kt7R",
        "outputId": "658d5d16-6870-448f-a460-e5d7b8b0c4a1"
      },
      "execution_count": 103,
      "outputs": [
        {
          "output_type": "execute_result",
          "data": {
            "text/plain": [
              "['2023_Passagem_tratado', '2023_Passagem.csv']"
            ]
          },
          "metadata": {},
          "execution_count": 103
        }
      ]
    },
    {
      "cell_type": "markdown",
      "source": [
        "#Leitura do arquivo da pasta"
      ],
      "metadata": {
        "id": "JQhG7OJUK_P7"
      }
    },
    {
      "cell_type": "code",
      "source": [
        "#pre-definindo o schema usando StructType e StructField\n",
        "gastos_schema = StructType(fields=[StructField(\"Identificador do processo de viagem\", IntegerType()),\n",
        "                                    StructField(\"Número da Proposta (PCDP)\", StringType()),\n",
        "                                    StructField(\"Meio de transporte\", StringType()),\n",
        "                                    StructField(\"País - Origem ida\", StringType()),\n",
        "                                    StructField(\"UF - Origem ida\", StringType()),\n",
        "                                    StructField(\"Cidade - Origem ida\", StringType()),\n",
        "                                    StructField(\"País - Destino ida\", StringType()),\n",
        "                                   StructField(\"UF - Destino ida\", StringType()),\n",
        "                                    StructField(\"Cidade - Destino ida\", StringType()),\n",
        "                                    StructField(\"País - Origem volta\", StringType()),\n",
        "                                   StructField(\"UF - Origem volta\", StringType()),\n",
        "                                    StructField(\"Cidade - Origem volta\", StringType()),\n",
        "                                    StructField(\"Pais - Destino volta\", StringType()),\n",
        "                                   StructField(\"UF - Destino volta\", StringType()),\n",
        "                                    StructField(\"Cidade - Destino volta\", StringType()),\n",
        "                                    StructField(\"Valor da passagem\", StringType()),#DoubleType()),\n",
        "                                    StructField(\"Taxa de serviço\", StringType()),#DoubleType()),\n",
        "                                    StructField(\"Data da emissão/compra\",StringType()), #DateType()),#only accept format yyyy-MM-dd.\n",
        "                                   StructField(\"Hora da emissão/compra\", TimestampType())\n",
        "                                    ]\n",
        "                           )"
      ],
      "metadata": {
        "id": "0uttBvR-tw8R"
      },
      "execution_count": 104,
      "outputs": []
    },
    {
      "cell_type": "code",
      "source": [
        "# usando StructType\n",
        "df2 = spark.read.option(\"header\", \"true\")\\\n",
        ".schema(gastos_schema)\\\n",
        ".option(\"delimiter\", \";\")\\\n",
        ".option(\"encoding\", \"iso-8859-1\")\\\n",
        ".csv(diret)"
      ],
      "metadata": {
        "id": "eywIo-lEygVA"
      },
      "execution_count": 105,
      "outputs": []
    },
    {
      "cell_type": "code",
      "source": [
        "# OU usando inferSchema\n",
        "df2 = spark.read.option(\"header\", \"true\")\\\n",
        ".option('inferSchema', 'true')\\\n",
        ".option(\"delimiter\", \";\")\\\n",
        ".option(\"encoding\", \"iso-8859-1\")\\\n",
        ".csv(diret)\n"
      ],
      "metadata": {
        "id": "JFJDb8qcK4hE"
      },
      "execution_count": 72,
      "outputs": []
    },
    {
      "cell_type": "code",
      "source": [
        "#mostra as colunas\n",
        "df2.show(5)"
      ],
      "metadata": {
        "colab": {
          "base_uri": "https://localhost:8080/"
        },
        "id": "mNUkJmrJMsgZ",
        "outputId": "c876676e-2e83-4a24-d419-d5ccebbf799c"
      },
      "execution_count": 106,
      "outputs": [
        {
          "output_type": "stream",
          "name": "stdout",
          "text": [
            "+-----------------------------------+-------------------------+------------------+-----------------+----------------+-------------------+--------------------+----------------+--------------------+--------------------+-----------------+---------------------+--------------------+------------------+----------------------+-----------------+---------------+----------------------+----------------------+\n",
            "|Identificador do processo de viagem|Número da Proposta (PCDP)|Meio de transporte|País - Origem ida| UF - Origem ida|Cidade - Origem ida|  País - Destino ida|UF - Destino ida|Cidade - Destino ida| País - Origem volta|UF - Origem volta|Cidade - Origem volta|Pais - Destino volta|UF - Destino volta|Cidade - Destino volta|Valor da passagem|Taxa de serviço|Data da emissão/compra|Hora da emissão/compra|\n",
            "+-----------------------------------+-------------------------+------------------+-----------------+----------------+-------------------+--------------------+----------------+--------------------+--------------------+-----------------+---------------------+--------------------+------------------+----------------------+-----------------+---------------+----------------------+----------------------+\n",
            "|                           18288418|             000007/23-1C|             Aéreo|           Brasil|Distrito Federal|           Brasília|Estados Unidos da...|            NULL|           Nova York|Estados Unidos da...|             NULL|            Nova York|              Brasil|  Distrito Federal|              Brasília|          7434,13|           0,00|            04/11/2022|   2023-10-03 11:04:00|\n",
            "|                           18302983|                000001/23|             Aéreo|           Brasil|       São Paulo|          São Paulo|              Suécia|            NULL|          Gotemburgo|              Suécia|             NULL|           Gotemburgo|              Brasil|         São Paulo|             São Paulo|          9903,32|        4999,78|            15/09/2022|   2023-10-03 13:39:00|\n",
            "|                           18306758|                000002/23|             Aéreo|           Brasil|       São Paulo|          São Paulo|              Suécia|            NULL|          Gotemburgo|              Suécia|             NULL|           Gotemburgo|              Brasil|         São Paulo|             São Paulo|          9903,32|        4999,78|            15/09/2022|   2023-10-03 13:42:00|\n",
            "|                           18306785|                000004/23|             Aéreo|           Brasil|       São Paulo|          São Paulo|              Suécia|            NULL|          Gotemburgo|              Suécia|             NULL|           Gotemburgo|              Brasil|         São Paulo|             São Paulo|          9903,32|        4999,78|            15/09/2022|   2023-10-03 13:51:00|\n",
            "|                           18306786|                000003/23|             Aéreo|           Brasil|       São Paulo|          São Paulo|              Suécia|            NULL|          Gotemburgo|              Suécia|             NULL|           Gotemburgo|              Brasil|         São Paulo|             São Paulo|          9903,32|        4999,78|            15/09/2022|   2023-10-03 13:48:00|\n",
            "+-----------------------------------+-------------------------+------------------+-----------------+----------------+-------------------+--------------------+----------------+--------------------+--------------------+-----------------+---------------------+--------------------+------------------+----------------------+-----------------+---------------+----------------------+----------------------+\n",
            "only showing top 5 rows\n",
            "\n"
          ]
        }
      ]
    },
    {
      "cell_type": "code",
      "source": [
        "# caso precise converter a data\n",
        "df2.select(col(\"Data da emissão/compra\"),\n",
        "    to_date(col(\"Data da emissão/compra\"), \"dd/MM/yyyy\").alias(\"to_date\")).show()\n",
        "    #date_format(col(\"Data da emissão/compra\"), \"dd/MM/yyyy\").alias(\"to_date\")).show()"
      ],
      "metadata": {
        "colab": {
          "base_uri": "https://localhost:8080/"
        },
        "id": "lOc3dAuVf3AO",
        "outputId": "8c5ae1fd-5284-404b-b5ce-c7023d2adb4d"
      },
      "execution_count": 107,
      "outputs": [
        {
          "output_type": "stream",
          "name": "stdout",
          "text": [
            "+----------------------+----------+\n",
            "|Data da emissão/compra|   to_date|\n",
            "+----------------------+----------+\n",
            "|            04/11/2022|2022-11-04|\n",
            "|            15/09/2022|2022-09-15|\n",
            "|            15/09/2022|2022-09-15|\n",
            "|            15/09/2022|2022-09-15|\n",
            "|            15/09/2022|2022-09-15|\n",
            "|            06/12/2022|2022-12-06|\n",
            "|            06/12/2022|2022-12-06|\n",
            "|            06/12/2022|2022-12-06|\n",
            "|            23/11/2022|2022-11-23|\n",
            "|            23/11/2022|2022-11-23|\n",
            "|            21/09/2022|2022-09-21|\n",
            "|            21/09/2022|2022-09-21|\n",
            "|            26/01/2023|2023-01-26|\n",
            "|            26/01/2023|2023-01-26|\n",
            "|            21/09/2022|2022-09-21|\n",
            "|            21/10/2022|2022-10-21|\n",
            "|            21/10/2022|2022-10-21|\n",
            "|            28/02/2023|2023-02-28|\n",
            "|            28/02/2023|2023-02-28|\n",
            "|            26/09/2022|2022-09-26|\n",
            "+----------------------+----------+\n",
            "only showing top 20 rows\n",
            "\n"
          ]
        }
      ]
    },
    {
      "cell_type": "code",
      "source": [
        "df2 = df2.withColumn(\"Data da emissão/compra\", to_date(\"Data da emissão/compra\", \"dd/MM/yyyy\"))"
      ],
      "metadata": {
        "id": "5LMirioQiRtP"
      },
      "execution_count": 108,
      "outputs": []
    },
    {
      "cell_type": "code",
      "source": [
        "df2.printSchema()"
      ],
      "metadata": {
        "colab": {
          "base_uri": "https://localhost:8080/"
        },
        "id": "2y3UjGuaiuKq",
        "outputId": "278bdb7a-89bc-4836-8e43-5ad2db351a9d"
      },
      "execution_count": 109,
      "outputs": [
        {
          "output_type": "stream",
          "name": "stdout",
          "text": [
            "root\n",
            " |-- Identificador do processo de viagem: integer (nullable = true)\n",
            " |-- Número da Proposta (PCDP): string (nullable = true)\n",
            " |-- Meio de transporte: string (nullable = true)\n",
            " |-- País - Origem ida: string (nullable = true)\n",
            " |-- UF - Origem ida: string (nullable = true)\n",
            " |-- Cidade - Origem ida: string (nullable = true)\n",
            " |-- País - Destino ida: string (nullable = true)\n",
            " |-- UF - Destino ida: string (nullable = true)\n",
            " |-- Cidade - Destino ida: string (nullable = true)\n",
            " |-- País - Origem volta: string (nullable = true)\n",
            " |-- UF - Origem volta: string (nullable = true)\n",
            " |-- Cidade - Origem volta: string (nullable = true)\n",
            " |-- Pais - Destino volta: string (nullable = true)\n",
            " |-- UF - Destino volta: string (nullable = true)\n",
            " |-- Cidade - Destino volta: string (nullable = true)\n",
            " |-- Valor da passagem: string (nullable = true)\n",
            " |-- Taxa de serviço: string (nullable = true)\n",
            " |-- Data da emissão/compra: date (nullable = true)\n",
            " |-- Hora da emissão/compra: timestamp (nullable = true)\n",
            "\n"
          ]
        }
      ]
    },
    {
      "cell_type": "code",
      "source": [
        "df2 = df2.select([F.col(x).alias(x.replace(\" - \",\" \").replace(\" \",\"_\").lower()) for x in df2.columns])"
      ],
      "metadata": {
        "id": "GiKdMyf1kh-0"
      },
      "execution_count": 110,
      "outputs": []
    },
    {
      "cell_type": "code",
      "source": [
        "#mostra as colunas\n",
        "df2.show(5)"
      ],
      "metadata": {
        "colab": {
          "base_uri": "https://localhost:8080/"
        },
        "id": "XV3YxWhUlIRc",
        "outputId": "84fa8415-7530-4b1b-fcbe-71fb26347888"
      },
      "execution_count": 111,
      "outputs": [
        {
          "output_type": "stream",
          "name": "stdout",
          "text": [
            "+-----------------------------------+-------------------------+------------------+---------------+----------------+-----------------+--------------------+--------------+------------------+--------------------+---------------+-------------------+------------------+----------------+--------------------+-----------------+---------------+----------------------+----------------------+\n",
            "|identificador_do_processo_de_viagem|número_da_proposta_(pcdp)|meio_de_transporte|país_origem_ida|   uf_origem_ida|cidade_origem_ida|    país_destino_ida|uf_destino_ida|cidade_destino_ida|   país_origem_volta|uf_origem_volta|cidade_origem_volta|pais_destino_volta|uf_destino_volta|cidade_destino_volta|valor_da_passagem|taxa_de_serviço|data_da_emissão/compra|hora_da_emissão/compra|\n",
            "+-----------------------------------+-------------------------+------------------+---------------+----------------+-----------------+--------------------+--------------+------------------+--------------------+---------------+-------------------+------------------+----------------+--------------------+-----------------+---------------+----------------------+----------------------+\n",
            "|                           18288418|             000007/23-1C|             Aéreo|         Brasil|Distrito Federal|         Brasília|Estados Unidos da...|          NULL|         Nova York|Estados Unidos da...|           NULL|          Nova York|            Brasil|Distrito Federal|            Brasília|          7434,13|           0,00|            2022-11-04|   2023-10-03 11:04:00|\n",
            "|                           18302983|                000001/23|             Aéreo|         Brasil|       São Paulo|        São Paulo|              Suécia|          NULL|        Gotemburgo|              Suécia|           NULL|         Gotemburgo|            Brasil|       São Paulo|           São Paulo|          9903,32|        4999,78|            2022-09-15|   2023-10-03 13:39:00|\n",
            "|                           18306758|                000002/23|             Aéreo|         Brasil|       São Paulo|        São Paulo|              Suécia|          NULL|        Gotemburgo|              Suécia|           NULL|         Gotemburgo|            Brasil|       São Paulo|           São Paulo|          9903,32|        4999,78|            2022-09-15|   2023-10-03 13:42:00|\n",
            "|                           18306785|                000004/23|             Aéreo|         Brasil|       São Paulo|        São Paulo|              Suécia|          NULL|        Gotemburgo|              Suécia|           NULL|         Gotemburgo|            Brasil|       São Paulo|           São Paulo|          9903,32|        4999,78|            2022-09-15|   2023-10-03 13:51:00|\n",
            "|                           18306786|                000003/23|             Aéreo|         Brasil|       São Paulo|        São Paulo|              Suécia|          NULL|        Gotemburgo|              Suécia|           NULL|         Gotemburgo|            Brasil|       São Paulo|           São Paulo|          9903,32|        4999,78|            2022-09-15|   2023-10-03 13:48:00|\n",
            "+-----------------------------------+-------------------------+------------------+---------------+----------------+-----------------+--------------------+--------------+------------------+--------------------+---------------+-------------------+------------------+----------------+--------------------+-----------------+---------------+----------------------+----------------------+\n",
            "only showing top 5 rows\n",
            "\n"
          ]
        }
      ]
    },
    {
      "cell_type": "code",
      "source": [
        "df2.printSchema()"
      ],
      "metadata": {
        "colab": {
          "base_uri": "https://localhost:8080/"
        },
        "id": "OtnfNQq_j8ze",
        "outputId": "6935cabc-577b-49cf-f69b-1c0f077df0dd"
      },
      "execution_count": 112,
      "outputs": [
        {
          "output_type": "stream",
          "name": "stdout",
          "text": [
            "root\n",
            " |-- identificador_do_processo_de_viagem: integer (nullable = true)\n",
            " |-- número_da_proposta_(pcdp): string (nullable = true)\n",
            " |-- meio_de_transporte: string (nullable = true)\n",
            " |-- país_origem_ida: string (nullable = true)\n",
            " |-- uf_origem_ida: string (nullable = true)\n",
            " |-- cidade_origem_ida: string (nullable = true)\n",
            " |-- país_destino_ida: string (nullable = true)\n",
            " |-- uf_destino_ida: string (nullable = true)\n",
            " |-- cidade_destino_ida: string (nullable = true)\n",
            " |-- país_origem_volta: string (nullable = true)\n",
            " |-- uf_origem_volta: string (nullable = true)\n",
            " |-- cidade_origem_volta: string (nullable = true)\n",
            " |-- pais_destino_volta: string (nullable = true)\n",
            " |-- uf_destino_volta: string (nullable = true)\n",
            " |-- cidade_destino_volta: string (nullable = true)\n",
            " |-- valor_da_passagem: string (nullable = true)\n",
            " |-- taxa_de_serviço: string (nullable = true)\n",
            " |-- data_da_emissão/compra: date (nullable = true)\n",
            " |-- hora_da_emissão/compra: timestamp (nullable = true)\n",
            "\n"
          ]
        }
      ]
    },
    {
      "cell_type": "code",
      "source": [
        "df2 = df2.withColumn(\"valor_da_passagem\", F.expr(\"cast(replace(valor_da_passagem, ',','.') as double)\"))\\\n",
        ".withColumn(\"taxa_de_serviço\", F.expr(\"cast(replace(`taxa_de_serviço`, ',','.') as double)\"))\n",
        "\n",
        "\n",
        "\n",
        "df2.printSchema()"
      ],
      "metadata": {
        "colab": {
          "base_uri": "https://localhost:8080/"
        },
        "id": "BOeDpXSLmLmD",
        "outputId": "c15981e7-bb85-4620-b40c-d79c8c686f2a"
      },
      "execution_count": 113,
      "outputs": [
        {
          "output_type": "stream",
          "name": "stdout",
          "text": [
            "root\n",
            " |-- identificador_do_processo_de_viagem: integer (nullable = true)\n",
            " |-- número_da_proposta_(pcdp): string (nullable = true)\n",
            " |-- meio_de_transporte: string (nullable = true)\n",
            " |-- país_origem_ida: string (nullable = true)\n",
            " |-- uf_origem_ida: string (nullable = true)\n",
            " |-- cidade_origem_ida: string (nullable = true)\n",
            " |-- país_destino_ida: string (nullable = true)\n",
            " |-- uf_destino_ida: string (nullable = true)\n",
            " |-- cidade_destino_ida: string (nullable = true)\n",
            " |-- país_origem_volta: string (nullable = true)\n",
            " |-- uf_origem_volta: string (nullable = true)\n",
            " |-- cidade_origem_volta: string (nullable = true)\n",
            " |-- pais_destino_volta: string (nullable = true)\n",
            " |-- uf_destino_volta: string (nullable = true)\n",
            " |-- cidade_destino_volta: string (nullable = true)\n",
            " |-- valor_da_passagem: double (nullable = true)\n",
            " |-- taxa_de_serviço: double (nullable = true)\n",
            " |-- data_da_emissão/compra: date (nullable = true)\n",
            " |-- hora_da_emissão/compra: timestamp (nullable = true)\n",
            "\n"
          ]
        }
      ]
    },
    {
      "cell_type": "code",
      "source": [
        "df2.describe().show()\n"
      ],
      "metadata": {
        "colab": {
          "base_uri": "https://localhost:8080/"
        },
        "id": "TWpF5bFWe4PN",
        "outputId": "f8465f00-ad33-40e4-9ead-cc8dadbb889f"
      },
      "execution_count": 114,
      "outputs": [
        {
          "output_type": "stream",
          "name": "stdout",
          "text": [
            "+-------+-----------------------------------+-------------------------+------------------+---------------+-------------+-----------------+----------------+--------------+------------------+-----------------+---------------+-------------------+------------------+----------------+--------------------+------------------+------------------+\n",
            "|summary|identificador_do_processo_de_viagem|número_da_proposta_(pcdp)|meio_de_transporte|país_origem_ida|uf_origem_ida|cidade_origem_ida|país_destino_ida|uf_destino_ida|cidade_destino_ida|país_origem_volta|uf_origem_volta|cidade_origem_volta|pais_destino_volta|uf_destino_volta|cidade_destino_volta| valor_da_passagem|   taxa_de_serviço|\n",
            "+-------+-----------------------------------+-------------------------+------------------+---------------+-------------+-----------------+----------------+--------------+------------------+-----------------+---------------+-------------------+------------------+----------------+--------------------+------------------+------------------+\n",
            "|  count|                             196332|                   196332|            196332|         196332|       189865|           196332|          196332|        188275|            196332|           196332|         194184|             196332|            196332|          195825|              196332|            196332|            196332|\n",
            "|   mean|                3.076544540470733E7|                     NULL|              NULL|           NULL|         NULL|             NULL|            NULL|          NULL|              NULL|             NULL|           NULL|               NULL|              NULL|            NULL|                NULL|1832.7642894180713|10.517705111749974|\n",
            "| stddev|               1.5377041557638445E8|                     NULL|              NULL|           NULL|         NULL|             NULL|            NULL|          NULL|              NULL|             NULL|           NULL|               NULL|              NULL|            NULL|                NULL| 2400.985037158453| 298.5524850835766|\n",
            "|    min|                           18288418|                000001/23|             Aéreo|        Albânia|         Acre|         Aberdeen|         Albânia|          Acre|   Abadia de Goiás|         Alemanha|           Acre|    Abadia de Goiás|           Albânia|            Acre|              Abidjã|               0.0|               0.0|\n",
            "|    max|                         2023001043|           Sem informação|        Rodoviário|          Índia|    Tocantins|         Água Boa|           Índia|     Tocantins|  Águas de Lindóia|            Índia|      Tocantins|   Águas de Lindóia|             Índia|       Tocantins|             Zurique|          79234.41|          76896.94|\n",
            "+-------+-----------------------------------+-------------------------+------------------+---------------+-------------+-----------------+----------------+--------------+------------------+-----------------+---------------+-------------------+------------------+----------------+--------------------+------------------+------------------+\n",
            "\n"
          ]
        }
      ]
    },
    {
      "cell_type": "code",
      "source": [
        "#somente as colunas quantitativas\n",
        "df2[['valor_da_passagem','taxa_de_serviço']].describe().show()"
      ],
      "metadata": {
        "colab": {
          "base_uri": "https://localhost:8080/"
        },
        "id": "G3WE6U_Hoxe4",
        "outputId": "4577d41c-076a-48c7-c51f-aa4f27b890e4"
      },
      "execution_count": 115,
      "outputs": [
        {
          "output_type": "stream",
          "name": "stdout",
          "text": [
            "+-------+------------------+------------------+\n",
            "|summary| valor_da_passagem|   taxa_de_serviço|\n",
            "+-------+------------------+------------------+\n",
            "|  count|            196332|            196332|\n",
            "|   mean|1832.7642894180713|10.517705111749974|\n",
            "| stddev| 2400.985037158453| 298.5524850835766|\n",
            "|    min|               0.0|               0.0|\n",
            "|    max|          79234.41|          76896.94|\n",
            "+-------+------------------+------------------+\n",
            "\n"
          ]
        }
      ]
    },
    {
      "cell_type": "code",
      "source": [
        "type(df2)"
      ],
      "metadata": {
        "colab": {
          "base_uri": "https://localhost:8080/"
        },
        "id": "-a2HCH_9jB4N",
        "outputId": "63897bba-7c15-4cb3-e5df-0c95c4735ce5"
      },
      "execution_count": 116,
      "outputs": [
        {
          "output_type": "execute_result",
          "data": {
            "text/plain": [
              "pyspark.sql.dataframe.DataFrame"
            ]
          },
          "metadata": {},
          "execution_count": 116
        }
      ]
    },
    {
      "cell_type": "markdown",
      "source": [
        "#Salvando de volta o arquivo tratado\n"
      ],
      "metadata": {
        "id": "mglzzEz4qR36"
      }
    },
    {
      "cell_type": "code",
      "source": [
        "#para salvar no google drive, deve-se importar a biblioteca\n",
        "from google.colab import drive"
      ],
      "metadata": {
        "id": "RGvVM1H6jGYb"
      },
      "execution_count": 117,
      "outputs": []
    },
    {
      "cell_type": "code",
      "source": [
        "#montando com o google  drive\n",
        "drive.mount('/content/drive/')"
      ],
      "metadata": {
        "colab": {
          "base_uri": "https://localhost:8080/"
        },
        "id": "dEui7N5yqVS5",
        "outputId": "d533f51b-e720-4d34-bce3-03722876262b"
      },
      "execution_count": 118,
      "outputs": [
        {
          "output_type": "stream",
          "name": "stdout",
          "text": [
            "Drive already mounted at /content/drive/; to attempt to forcibly remount, call drive.mount(\"/content/drive/\", force_remount=True).\n"
          ]
        }
      ]
    },
    {
      "cell_type": "code",
      "source": [
        "#Variável de diretório, já usada no início do projeto\n",
        "diret2 = \"/content/drive/MyDrive/Bootcamp_eng_dados/Mod1/Viagens\""
      ],
      "metadata": {
        "id": "k9jhClHgqYI3"
      },
      "execution_count": 119,
      "outputs": []
    },
    {
      "cell_type": "code",
      "source": [
        "# comando para escrita do arquivo criado\n",
        "df2.write.mode(\"overwrite\").option(\"header\", \"true\").csv(f'{diret2}/2023_Passagem_tratado') #irá criar um arquivo com os dados tratados"
      ],
      "metadata": {
        "id": "3e9s83aPqlgH"
      },
      "execution_count": 120,
      "outputs": []
    },
    {
      "cell_type": "code",
      "source": [
        "os.listdir(\"/content/drive/MyDrive/Bootcamp_eng_dados/Mod1/Viagens\")"
      ],
      "metadata": {
        "colab": {
          "base_uri": "https://localhost:8080/"
        },
        "id": "QmOXRgGIq0qC",
        "outputId": "e3ff2597-3462-4b5c-b7db-d7d2967dade6"
      },
      "execution_count": 121,
      "outputs": [
        {
          "output_type": "execute_result",
          "data": {
            "text/plain": [
              "['2023_Passagem.csv', '2023_Passagem_tratado']"
            ]
          },
          "metadata": {},
          "execution_count": 121
        }
      ]
    },
    {
      "cell_type": "code",
      "source": [
        "#importando o csv salvo\n",
        "df3 = spark.read.option(\"header\", \"true\").csv(f\"{diret2}/2023_Passagem_tratado\")"
      ],
      "metadata": {
        "id": "l8v4Eh2Au4fV"
      },
      "execution_count": 122,
      "outputs": []
    },
    {
      "cell_type": "code",
      "source": [
        "df3.show()"
      ],
      "metadata": {
        "colab": {
          "base_uri": "https://localhost:8080/"
        },
        "id": "EynppYpqvIIN",
        "outputId": "62d565fe-5c21-4576-b977-10367e409a30"
      },
      "execution_count": 123,
      "outputs": [
        {
          "output_type": "stream",
          "name": "stdout",
          "text": [
            "+-----------------------------------+-------------------------+------------------+--------------------+----------------+-----------------+--------------------+-------------------+------------------+--------------------+----------------+-------------------+--------------------+----------------+--------------------+-----------------+---------------+----------------------+----------------------+\n",
            "|identificador_do_processo_de_viagem|número_da_proposta_(pcdp)|meio_de_transporte|     país_origem_ida|   uf_origem_ida|cidade_origem_ida|    país_destino_ida|     uf_destino_ida|cidade_destino_ida|   país_origem_volta| uf_origem_volta|cidade_origem_volta|  pais_destino_volta|uf_destino_volta|cidade_destino_volta|valor_da_passagem|taxa_de_serviço|data_da_emissão/compra|hora_da_emissão/compra|\n",
            "+-----------------------------------+-------------------------+------------------+--------------------+----------------+-----------------+--------------------+-------------------+------------------+--------------------+----------------+-------------------+--------------------+----------------+--------------------+-----------------+---------------+----------------------+----------------------+\n",
            "|                           18288418|             000007/23-1C|             Aéreo|              Brasil|Distrito Federal|         Brasília|Estados Unidos da...|               NULL|         Nova York|Estados Unidos da...|            NULL|          Nova York|              Brasil|Distrito Federal|            Brasília|          7434.13|            0.0|            2022-11-04|  2023-10-03T11:04:...|\n",
            "|                           18302983|                000001/23|             Aéreo|              Brasil|       São Paulo|        São Paulo|              Suécia|               NULL|        Gotemburgo|              Suécia|            NULL|         Gotemburgo|              Brasil|       São Paulo|           São Paulo|          9903.32|        4999.78|            2022-09-15|  2023-10-03T13:39:...|\n",
            "|                           18306758|                000002/23|             Aéreo|              Brasil|       São Paulo|        São Paulo|              Suécia|               NULL|        Gotemburgo|              Suécia|            NULL|         Gotemburgo|              Brasil|       São Paulo|           São Paulo|          9903.32|        4999.78|            2022-09-15|  2023-10-03T13:42:...|\n",
            "|                           18306785|                000004/23|             Aéreo|              Brasil|       São Paulo|        São Paulo|              Suécia|               NULL|        Gotemburgo|              Suécia|            NULL|         Gotemburgo|              Brasil|       São Paulo|           São Paulo|          9903.32|        4999.78|            2022-09-15|  2023-10-03T13:51:...|\n",
            "|                           18306786|                000003/23|             Aéreo|              Brasil|       São Paulo|        São Paulo|              Suécia|               NULL|        Gotemburgo|              Suécia|            NULL|         Gotemburgo|              Brasil|       São Paulo|           São Paulo|          9903.32|        4999.78|            2022-09-15|  2023-10-03T13:48:...|\n",
            "|                           18320442|                000002/23|             Aéreo|              Brasil|  Rio de Janeiro|   Rio de Janeiro|              Brasil|Rio Grande do Norte|             Natal|      Sem Informação|  Sem Informação|     Sem Informação|      Sem Informação|  Sem Informação|      Sem Informação|          1518.18|            0.0|            2022-12-06|  2023-10-03T16:35:...|\n",
            "|                           18320483|                000003/23|             Aéreo|              Brasil|  Rio de Janeiro|   Rio de Janeiro|              Brasil|Rio Grande do Norte|             Natal|      Sem Informação|  Sem Informação|     Sem Informação|      Sem Informação|  Sem Informação|      Sem Informação|          1369.29|            0.0|            2022-12-06|  2023-10-03T16:31:...|\n",
            "|                           18320580|                000004/23|             Aéreo|              Brasil|  Rio de Janeiro|   Rio de Janeiro|              Brasil|Rio Grande do Norte|             Natal|      Sem Informação|  Sem Informação|     Sem Informação|      Sem Informação|  Sem Informação|      Sem Informação|          1369.29|            0.0|            2022-12-06|  2023-10-03T16:33:...|\n",
            "|                           18345549|                000001/23|             Aéreo|              Brasil|       Tocantins|           Palmas|            Portugal|               NULL|            Lisboa|      Sem Informação|  Sem Informação|     Sem Informação|      Sem Informação|  Sem Informação|      Sem Informação|          4336.39|            0.0|            2022-11-23|  2023-10-03T15:41:...|\n",
            "|                           18345549|                000001/23|             Aéreo|            Portugal|            NULL|           Lisboa|              Brasil|          Tocantins|            Palmas|      Sem Informação|  Sem Informação|     Sem Informação|      Sem Informação|  Sem Informação|      Sem Informação|          4336.39|            0.0|            2022-11-23|  2023-10-03T15:41:...|\n",
            "|                           18352553|             000005/23-1C|             Aéreo|Estados Unidos da...|            NULL|        Nova York|              Brasil|   Distrito Federal|          Brasília|      Sem Informação|  Sem Informação|     Sem Informação|      Sem Informação|  Sem Informação|      Sem Informação|           6506.9|            0.0|            2022-09-21|  2023-10-03T15:22:...|\n",
            "|                           18352553|             000005/23-1C|             Aéreo|              Brasil|Distrito Federal|         Brasília|Estados Unidos da...|               NULL|         Nova York|      Sem Informação|  Sem Informação|     Sem Informação|      Sem Informação|  Sem Informação|      Sem Informação|           6531.6|            0.0|            2022-09-21|  2023-10-03T15:22:...|\n",
            "|                           18357181|             000001/23-1C|             Aéreo|              Brasil|  Rio de Janeiro|   Rio de Janeiro|              Brasil|   Distrito Federal|          Brasília|      Sem Informação|  Sem Informação|     Sem Informação|      Sem Informação|  Sem Informação|      Sem Informação|            744.4|            0.0|            2023-01-26|  2023-10-03T09:43:...|\n",
            "|                           18357181|             000001/23-1C|             Aéreo|              Brasil|Distrito Federal|         Brasília|              Brasil|     Rio de Janeiro|    Rio de Janeiro|      Sem Informação|  Sem Informação|     Sem Informação|      Sem Informação|  Sem Informação|      Sem Informação|           869.42|            0.0|            2023-01-26|  2023-10-03T09:43:...|\n",
            "|                           18357399|                000002/23|             Aéreo|              Brasil|  Rio de Janeiro|   Rio de Janeiro|              Brasil|   Distrito Federal|          Brasília|      Sem Informação|  Sem Informação|     Sem Informação|      Sem Informação|  Sem Informação|      Sem Informação|           434.82|            0.0|            2022-09-21|  2023-10-03T11:07:...|\n",
            "|                           18369197|             000006/23-1C|             Aéreo|Estados Unidos da...|            NULL|        Nova York|              Brasil|   Distrito Federal|          Brasília|      Sem Informação|  Sem Informação|     Sem Informação|      Sem Informação|  Sem Informação|      Sem Informação|          3831.63|           0.05|            2022-10-21|  2023-10-03T17:34:...|\n",
            "|                           18369197|             000006/23-1C|             Aéreo|              Brasil|Distrito Federal|         Brasília|Estados Unidos da...|               NULL|         Nova York|      Sem Informação|  Sem Informação|     Sem Informação|      Sem Informação|  Sem Informação|      Sem Informação|          3831.63|           0.05|            2022-10-21|  2023-10-03T17:34:...|\n",
            "|                           18369332|                000060/23|             Aéreo|              Brasil|  Santa Catarina|        Joinville|              Brasil|              Ceará|         Fortaleza|      Sem Informação|  Sem Informação|     Sem Informação|      Sem Informação|  Sem Informação|      Sem Informação|          1117.27|            0.0|            2023-02-28|  2023-10-03T12:54:...|\n",
            "|                           18369332|                000060/23|             Aéreo|              Brasil|           Ceará|        Fortaleza|              Brasil|     Santa Catarina|         Joinville|      Sem Informação|  Sem Informação|     Sem Informação|      Sem Informação|  Sem Informação|      Sem Informação|          1125.54|            0.0|            2023-02-28|  2023-10-03T12:54:...|\n",
            "|                           18379705|                000002/23|             Aéreo|República Democrá...|            NULL|      Brazzaville|              Brasil|   Distrito Federal|          Brasília|              Brasil|Distrito Federal|           Brasília|República Democrá...|            NULL|         Brazzaville|         15492.42|            0.0|            2022-09-26|  2023-10-03T18:02:...|\n",
            "+-----------------------------------+-------------------------+------------------+--------------------+----------------+-----------------+--------------------+-------------------+------------------+--------------------+----------------+-------------------+--------------------+----------------+--------------------+-----------------+---------------+----------------------+----------------------+\n",
            "only showing top 20 rows\n",
            "\n"
          ]
        }
      ]
    },
    {
      "cell_type": "code",
      "source": [
        "df3.printSchema()"
      ],
      "metadata": {
        "colab": {
          "base_uri": "https://localhost:8080/"
        },
        "id": "l9lrV2ZWvMcB",
        "outputId": "0f0e1fb2-1aec-4642-aef5-3b03a34bab28"
      },
      "execution_count": 126,
      "outputs": [
        {
          "output_type": "stream",
          "name": "stdout",
          "text": [
            "root\n",
            " |-- identificador_do_processo_de_viagem: string (nullable = true)\n",
            " |-- número_da_proposta_(pcdp): string (nullable = true)\n",
            " |-- meio_de_transporte: string (nullable = true)\n",
            " |-- país_origem_ida: string (nullable = true)\n",
            " |-- uf_origem_ida: string (nullable = true)\n",
            " |-- cidade_origem_ida: string (nullable = true)\n",
            " |-- país_destino_ida: string (nullable = true)\n",
            " |-- uf_destino_ida: string (nullable = true)\n",
            " |-- cidade_destino_ida: string (nullable = true)\n",
            " |-- país_origem_volta: string (nullable = true)\n",
            " |-- uf_origem_volta: string (nullable = true)\n",
            " |-- cidade_origem_volta: string (nullable = true)\n",
            " |-- pais_destino_volta: string (nullable = true)\n",
            " |-- uf_destino_volta: string (nullable = true)\n",
            " |-- cidade_destino_volta: string (nullable = true)\n",
            " |-- valor_da_passagem: string (nullable = true)\n",
            " |-- taxa_de_serviço: string (nullable = true)\n",
            " |-- data_da_emissão/compra: string (nullable = true)\n",
            " |-- hora_da_emissão/compra: string (nullable = true)\n",
            "\n"
          ]
        }
      ]
    },
    {
      "cell_type": "code",
      "source": [],
      "metadata": {
        "id": "bSo2JLrIvTT1"
      },
      "execution_count": null,
      "outputs": []
    }
  ]
}